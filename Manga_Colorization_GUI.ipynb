{
  "cells": [
    {
      "cell_type": "markdown",
      "metadata": {
        "id": "view-in-github",
        "colab_type": "text"
      },
      "source": [
        "<a href=\"https://colab.research.google.com/github/Kaiser42/Manga-Colorization-GUI/blob/master/Manga_Colorization_GUI.ipynb\" target=\"_parent\"><img src=\"https://colab.research.google.com/assets/colab-badge.svg\" alt=\"Open In Colab\"/></a>"
      ]
    },
    {
      "cell_type": "markdown",
      "source": [
        "**If you liked the project go to the repository and give it a star!**\n",
        "\n",
        "https://github.com/Kaiser42/Manga-Colorization-GUI"
      ],
      "metadata": {
        "id": "MKxOr7oTONaV"
      }
    },
    {
      "cell_type": "markdown",
      "metadata": {
        "id": "45OUgeahBBo_"
      },
      "source": [
        "# Install Manga-Colorization-GUI"
      ]
    },
    {
      "cell_type": "code",
      "execution_count": null,
      "metadata": {
        "id": "WsZHMYuC9Wpl"
      },
      "outputs": [],
      "source": [
        "!git clone https://github.com/Kaiser42/Manga-Colorization-GUI.git\n",
        "%cd Manga-Colorization-GUI"
      ]
    },
    {
      "cell_type": "code",
      "execution_count": null,
      "metadata": {
        "id": "Fp2d8uo59lje"
      },
      "outputs": [],
      "source": [
        "!pip install -r /content/Manga-Colorization-GUI/requeriments.txt\n",
        "!pip uninstall numpy\n",
        "!pip install numpy==1.23.5\n",
        "!pip install matplotlib==3.9.0 opencv-python==4.10.0.84 rarfile==4.0 gradio==4.36.1 basicsr==1.4.2 facexlib==0.2.5 gfpgan==1.3.5 Pillow torch==1.13.1 torchvision==0.14.1 tqdm"
      ]
    },
    {
      "cell_type": "markdown",
      "metadata": {
        "id": "Cjb9EoVZZESH"
      },
      "source": [
        "# Connect to drive"
      ]
    },
    {
      "cell_type": "code",
      "execution_count": null,
      "metadata": {
        "id": "Lft1LHx_ZCzz"
      },
      "outputs": [],
      "source": [
        "from google.colab import drive\n",
        "drive.mount('/content/drive')"
      ]
    },
    {
      "cell_type": "markdown",
      "metadata": {
        "id": "VwG3pn5fBu0u"
      },
      "source": [
        "# Start WebUI"
      ]
    },
    {
      "cell_type": "code",
      "execution_count": null,
      "metadata": {
        "colab": {
          "background_save": true
        },
        "id": "BZ7Z9tVEByKH"
      },
      "outputs": [],
      "source": [
        "!python webui.py -url"
      ]
    }
  ],
  "metadata": {
    "accelerator": "GPU",
    "colab": {
      "gpuType": "T4",
      "provenance": [],
      "collapsed_sections": [
        "45OUgeahBBo_",
        "Cjb9EoVZZESH"
      ],
      "authorship_tag": "ABX9TyPU3Dohj8Uxj/0JkPbuj8ij",
      "include_colab_link": true
    },
    "kernelspec": {
      "display_name": "Python 3",
      "name": "python3"
    },
    "language_info": {
      "name": "python"
    }
  },
  "nbformat": 4,
  "nbformat_minor": 0
}
{
  "nbformat": 4,
  "nbformat_minor": 0,
  "metadata": {
    "colab": {
      "provenance": [],
      "gpuType": "T4"
    },
    "kernelspec": {
      "name": "python3",
      "display_name": "Python 3"
    },
    "language_info": {
      "name": "python"
    },
    "accelerator": "GPU"
  },
  "cells": [
    {
      "cell_type": "markdown",
      "source": [
        "# Install Manga-Colorization-GUI"
      ],
      "metadata": {
        "id": "45OUgeahBBo_"
      }
    },
    {
      "cell_type": "code",
      "execution_count": null,
      "metadata": {
        "id": "WsZHMYuC9Wpl"
      },
      "outputs": [],
      "source": [
        "!git clone https://github.com/Kaiser42/Manga-Colorization-GUI.git\n",
        "%cd Manga-Colorization-GUI"
      ]
    },
    {
      "cell_type": "code",
      "source": [
        "!pip install -r /content/Manga-Colorization-GUI/requeriments.txt\n"
      ],
      "metadata": {
        "id": "Fp2d8uo59lje"
      },
      "execution_count": null,
      "outputs": []
    },
    {
      "cell_type": "markdown",
      "source": [
        "# Connect to drive"
      ],
      "metadata": {
        "id": "Cjb9EoVZZESH"
      }
    },
    {
      "cell_type": "code",
      "source": [
        "from google.colab import drive\n",
        "drive.mount('/content/drive')"
      ],
      "metadata": {
        "id": "Lft1LHx_ZCzz"
      },
      "execution_count": null,
      "outputs": []
    },
    {
      "cell_type": "markdown",
      "source": [
        "# Start WebUI"
      ],
      "metadata": {
        "id": "VwG3pn5fBu0u"
      }
    },
    {
      "cell_type": "code",
      "source": [
        "!python webui.py -url"
      ],
      "metadata": {
        "id": "BZ7Z9tVEByKH"
      },
      "execution_count": null,
      "outputs": []
    }
  ]
}